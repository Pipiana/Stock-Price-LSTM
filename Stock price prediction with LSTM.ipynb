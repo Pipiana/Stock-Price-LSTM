{
 "cells": [
  {
   "cell_type": "markdown",
   "id": "28b7c78a",
   "metadata": {},
   "source": [
    "### 1. a. Eksplorasi Data"
   ]
  },
  {
   "cell_type": "markdown",
   "id": "6f151baf",
   "metadata": {},
   "source": [
    "##### Menyiapkan beberapa library yang diperlukan"
   ]
  },
  {
   "cell_type": "code",
   "execution_count": 1,
   "id": "f17c351d",
   "metadata": {
    "scrolled": true
   },
   "outputs": [
    {
     "name": "stdout",
     "output_type": "stream",
     "text": [
      "Requirement already satisfied: tensorflow in c:\\users\\pipia\\anaconda3\\lib\\site-packages (2.12.0)\n",
      "Requirement already satisfied: tensorflow-intel==2.12.0 in c:\\users\\pipia\\anaconda3\\lib\\site-packages (from tensorflow) (2.12.0)\n",
      "Requirement already satisfied: google-pasta>=0.1.1 in c:\\users\\pipia\\anaconda3\\lib\\site-packages (from tensorflow-intel==2.12.0->tensorflow) (0.2.0)\n",
      "Requirement already satisfied: gast<=0.4.0,>=0.2.1 in c:\\users\\pipia\\anaconda3\\lib\\site-packages (from tensorflow-intel==2.12.0->tensorflow) (0.4.0)\n",
      "Requirement already satisfied: protobuf!=4.21.0,!=4.21.1,!=4.21.2,!=4.21.3,!=4.21.4,!=4.21.5,<5.0.0dev,>=3.20.3 in c:\\users\\pipia\\anaconda3\\lib\\site-packages (from tensorflow-intel==2.12.0->tensorflow) (4.23.3)\n",
      "Requirement already satisfied: absl-py>=1.0.0 in c:\\users\\pipia\\anaconda3\\lib\\site-packages (from tensorflow-intel==2.12.0->tensorflow) (1.4.0)\n",
      "Requirement already satisfied: tensorflow-estimator<2.13,>=2.12.0 in c:\\users\\pipia\\anaconda3\\lib\\site-packages (from tensorflow-intel==2.12.0->tensorflow) (2.12.0)\n",
      "Requirement already satisfied: setuptools in c:\\users\\pipia\\anaconda3\\lib\\site-packages (from tensorflow-intel==2.12.0->tensorflow) (52.0.0.post20210125)\n",
      "Requirement already satisfied: numpy<1.24,>=1.22 in c:\\users\\pipia\\anaconda3\\lib\\site-packages (from tensorflow-intel==2.12.0->tensorflow) (1.23.5)\n",
      "Requirement already satisfied: libclang>=13.0.0 in c:\\users\\pipia\\anaconda3\\lib\\site-packages (from tensorflow-intel==2.12.0->tensorflow) (16.0.0)\n",
      "Requirement already satisfied: six>=1.12.0 in c:\\users\\pipia\\anaconda3\\lib\\site-packages (from tensorflow-intel==2.12.0->tensorflow) (1.15.0)\n",
      "Requirement already satisfied: h5py>=2.9.0 in c:\\users\\pipia\\anaconda3\\lib\\site-packages (from tensorflow-intel==2.12.0->tensorflow) (2.10.0)\n",
      "Requirement already satisfied: grpcio<2.0,>=1.24.3 in c:\\users\\pipia\\anaconda3\\lib\\site-packages (from tensorflow-intel==2.12.0->tensorflow) (1.56.0)\n",
      "Requirement already satisfied: wrapt<1.15,>=1.11.0 in c:\\users\\pipia\\anaconda3\\lib\\site-packages (from tensorflow-intel==2.12.0->tensorflow) (1.12.1)\n",
      "Requirement already satisfied: flatbuffers>=2.0 in c:\\users\\pipia\\anaconda3\\lib\\site-packages (from tensorflow-intel==2.12.0->tensorflow) (23.5.26)\n",
      "Requirement already satisfied: opt-einsum>=2.3.2 in c:\\users\\pipia\\anaconda3\\lib\\site-packages (from tensorflow-intel==2.12.0->tensorflow) (3.3.0)\n",
      "Requirement already satisfied: astunparse>=1.6.0 in c:\\users\\pipia\\anaconda3\\lib\\site-packages (from tensorflow-intel==2.12.0->tensorflow) (1.6.3)\n",
      "Requirement already satisfied: tensorboard<2.13,>=2.12 in c:\\users\\pipia\\anaconda3\\lib\\site-packages (from tensorflow-intel==2.12.0->tensorflow) (2.12.3)\n",
      "Requirement already satisfied: typing-extensions>=3.6.6 in c:\\users\\pipia\\anaconda3\\lib\\site-packages (from tensorflow-intel==2.12.0->tensorflow) (3.7.4.3)\n",
      "Requirement already satisfied: packaging in c:\\users\\pipia\\anaconda3\\lib\\site-packages (from tensorflow-intel==2.12.0->tensorflow) (20.9)\n",
      "Requirement already satisfied: termcolor>=1.1.0 in c:\\users\\pipia\\anaconda3\\lib\\site-packages (from tensorflow-intel==2.12.0->tensorflow) (2.3.0)\n",
      "Requirement already satisfied: keras<2.13,>=2.12.0 in c:\\users\\pipia\\anaconda3\\lib\\site-packages (from tensorflow-intel==2.12.0->tensorflow) (2.12.0)\n",
      "Requirement already satisfied: tensorflow-io-gcs-filesystem>=0.23.1 in c:\\users\\pipia\\anaconda3\\lib\\site-packages (from tensorflow-intel==2.12.0->tensorflow) (0.31.0)\n",
      "Requirement already satisfied: jax>=0.3.15 in c:\\users\\pipia\\anaconda3\\lib\\site-packages (from tensorflow-intel==2.12.0->tensorflow) (0.4.13)\n",
      "Requirement already satisfied: wheel<1.0,>=0.23.0 in c:\\users\\pipia\\anaconda3\\lib\\site-packages (from astunparse>=1.6.0->tensorflow-intel==2.12.0->tensorflow) (0.36.2)\n",
      "Requirement already satisfied: importlib-metadata>=4.6 in c:\\users\\pipia\\anaconda3\\lib\\site-packages (from jax>=0.3.15->tensorflow-intel==2.12.0->tensorflow) (6.7.0)\n",
      "Requirement already satisfied: scipy>=1.7 in c:\\users\\pipia\\anaconda3\\lib\\site-packages (from jax>=0.3.15->tensorflow-intel==2.12.0->tensorflow) (1.10.1)\n",
      "Requirement already satisfied: ml-dtypes>=0.1.0 in c:\\users\\pipia\\anaconda3\\lib\\site-packages (from jax>=0.3.15->tensorflow-intel==2.12.0->tensorflow) (0.2.0)\n",
      "Requirement already satisfied: zipp>=0.5 in c:\\users\\pipia\\anaconda3\\lib\\site-packages (from importlib-metadata>=4.6->jax>=0.3.15->tensorflow-intel==2.12.0->tensorflow) (3.4.1)\n",
      "Requirement already satisfied: markdown>=2.6.8 in c:\\users\\pipia\\anaconda3\\lib\\site-packages (from tensorboard<2.13,>=2.12->tensorflow-intel==2.12.0->tensorflow) (3.4.3)\n",
      "Requirement already satisfied: werkzeug>=1.0.1 in c:\\users\\pipia\\anaconda3\\lib\\site-packages (from tensorboard<2.13,>=2.12->tensorflow-intel==2.12.0->tensorflow) (1.0.1)\n",
      "Requirement already satisfied: google-auth<3,>=1.6.3 in c:\\users\\pipia\\anaconda3\\lib\\site-packages (from tensorboard<2.13,>=2.12->tensorflow-intel==2.12.0->tensorflow) (2.21.0)\n",
      "Requirement already satisfied: tensorboard-data-server<0.8.0,>=0.7.0 in c:\\users\\pipia\\anaconda3\\lib\\site-packages (from tensorboard<2.13,>=2.12->tensorflow-intel==2.12.0->tensorflow) (0.7.1)\n",
      "Requirement already satisfied: google-auth-oauthlib<1.1,>=0.5 in c:\\users\\pipia\\anaconda3\\lib\\site-packages (from tensorboard<2.13,>=2.12->tensorflow-intel==2.12.0->tensorflow) (1.0.0)\n",
      "Requirement already satisfied: requests<3,>=2.21.0 in c:\\users\\pipia\\anaconda3\\lib\\site-packages (from tensorboard<2.13,>=2.12->tensorflow-intel==2.12.0->tensorflow) (2.25.1)\n",
      "Requirement already satisfied: cachetools<6.0,>=2.0.0 in c:\\users\\pipia\\anaconda3\\lib\\site-packages (from google-auth<3,>=1.6.3->tensorboard<2.13,>=2.12->tensorflow-intel==2.12.0->tensorflow) (5.3.1)\n",
      "Requirement already satisfied: pyasn1-modules>=0.2.1 in c:\\users\\pipia\\anaconda3\\lib\\site-packages (from google-auth<3,>=1.6.3->tensorboard<2.13,>=2.12->tensorflow-intel==2.12.0->tensorflow) (0.3.0)\n",
      "Requirement already satisfied: urllib3<2.0 in c:\\users\\pipia\\anaconda3\\lib\\site-packages (from google-auth<3,>=1.6.3->tensorboard<2.13,>=2.12->tensorflow-intel==2.12.0->tensorflow) (1.26.4)\n",
      "Requirement already satisfied: rsa<5,>=3.1.4 in c:\\users\\pipia\\anaconda3\\lib\\site-packages (from google-auth<3,>=1.6.3->tensorboard<2.13,>=2.12->tensorflow-intel==2.12.0->tensorflow) (4.9)\n",
      "Requirement already satisfied: requests-oauthlib>=0.7.0 in c:\\users\\pipia\\anaconda3\\lib\\site-packages (from google-auth-oauthlib<1.1,>=0.5->tensorboard<2.13,>=2.12->tensorflow-intel==2.12.0->tensorflow) (1.3.1)\n",
      "Requirement already satisfied: pyasn1<0.6.0,>=0.4.6 in c:\\users\\pipia\\anaconda3\\lib\\site-packages (from pyasn1-modules>=0.2.1->google-auth<3,>=1.6.3->tensorboard<2.13,>=2.12->tensorflow-intel==2.12.0->tensorflow) (0.5.0)\n",
      "Requirement already satisfied: certifi>=2017.4.17 in c:\\users\\pipia\\anaconda3\\lib\\site-packages (from requests<3,>=2.21.0->tensorboard<2.13,>=2.12->tensorflow-intel==2.12.0->tensorflow) (2020.12.5)\n",
      "Requirement already satisfied: chardet<5,>=3.0.2 in c:\\users\\pipia\\anaconda3\\lib\\site-packages (from requests<3,>=2.21.0->tensorboard<2.13,>=2.12->tensorflow-intel==2.12.0->tensorflow) (4.0.0)\n",
      "Requirement already satisfied: idna<3,>=2.5 in c:\\users\\pipia\\anaconda3\\lib\\site-packages (from requests<3,>=2.21.0->tensorboard<2.13,>=2.12->tensorflow-intel==2.12.0->tensorflow) (2.10)\n",
      "Requirement already satisfied: oauthlib>=3.0.0 in c:\\users\\pipia\\anaconda3\\lib\\site-packages (from requests-oauthlib>=0.7.0->google-auth-oauthlib<1.1,>=0.5->tensorboard<2.13,>=2.12->tensorflow-intel==2.12.0->tensorflow) (3.2.2)\n",
      "Requirement already satisfied: pyparsing>=2.0.2 in c:\\users\\pipia\\anaconda3\\lib\\site-packages (from packaging->tensorflow-intel==2.12.0->tensorflow) (2.4.7)\n"
     ]
    }
   ],
   "source": [
    "!pip install tensorflow"
   ]
  },
  {
   "cell_type": "code",
   "execution_count": 2,
   "id": "043b9d22",
   "metadata": {},
   "outputs": [],
   "source": [
    "import numpy as np\n",
    "import pandas as pd\n",
    "import tensorflow \n",
    "from tensorflow import keras\n",
    "from tensorflow.keras import layers\n",
    "from sklearn.preprocessing import MinMaxScaler"
   ]
  },
  {
   "cell_type": "markdown",
   "id": "0c3d5586",
   "metadata": {},
   "source": [
    "##### Menampilkan sekilas isi Facebook, Inc. stock data dari 'FB.csv' dan memeriksa null values"
   ]
  },
  {
   "cell_type": "code",
   "execution_count": 3,
   "id": "d665c68a",
   "metadata": {},
   "outputs": [
    {
     "data": {
      "text/html": [
       "<div>\n",
       "<style scoped>\n",
       "    .dataframe tbody tr th:only-of-type {\n",
       "        vertical-align: middle;\n",
       "    }\n",
       "\n",
       "    .dataframe tbody tr th {\n",
       "        vertical-align: top;\n",
       "    }\n",
       "\n",
       "    .dataframe thead th {\n",
       "        text-align: right;\n",
       "    }\n",
       "</style>\n",
       "<table border=\"1\" class=\"dataframe\">\n",
       "  <thead>\n",
       "    <tr style=\"text-align: right;\">\n",
       "      <th></th>\n",
       "      <th>Date</th>\n",
       "      <th>Open</th>\n",
       "      <th>High</th>\n",
       "      <th>Low</th>\n",
       "      <th>Close</th>\n",
       "      <th>Adj Close</th>\n",
       "      <th>Volume</th>\n",
       "    </tr>\n",
       "  </thead>\n",
       "  <tbody>\n",
       "    <tr>\n",
       "      <th>0</th>\n",
       "      <td>2012-05-18</td>\n",
       "      <td>42.049999</td>\n",
       "      <td>45.000000</td>\n",
       "      <td>38.000000</td>\n",
       "      <td>38.230000</td>\n",
       "      <td>38.230000</td>\n",
       "      <td>573576400</td>\n",
       "    </tr>\n",
       "    <tr>\n",
       "      <th>1</th>\n",
       "      <td>2012-05-21</td>\n",
       "      <td>36.529999</td>\n",
       "      <td>36.660000</td>\n",
       "      <td>33.000000</td>\n",
       "      <td>34.029999</td>\n",
       "      <td>34.029999</td>\n",
       "      <td>168192700</td>\n",
       "    </tr>\n",
       "    <tr>\n",
       "      <th>2</th>\n",
       "      <td>2012-05-22</td>\n",
       "      <td>32.610001</td>\n",
       "      <td>33.590000</td>\n",
       "      <td>30.940001</td>\n",
       "      <td>31.000000</td>\n",
       "      <td>31.000000</td>\n",
       "      <td>101786600</td>\n",
       "    </tr>\n",
       "    <tr>\n",
       "      <th>3</th>\n",
       "      <td>2012-05-23</td>\n",
       "      <td>31.370001</td>\n",
       "      <td>32.500000</td>\n",
       "      <td>31.360001</td>\n",
       "      <td>32.000000</td>\n",
       "      <td>32.000000</td>\n",
       "      <td>73600000</td>\n",
       "    </tr>\n",
       "    <tr>\n",
       "      <th>4</th>\n",
       "      <td>2012-05-24</td>\n",
       "      <td>32.950001</td>\n",
       "      <td>33.209999</td>\n",
       "      <td>31.770000</td>\n",
       "      <td>33.029999</td>\n",
       "      <td>33.029999</td>\n",
       "      <td>50237200</td>\n",
       "    </tr>\n",
       "  </tbody>\n",
       "</table>\n",
       "</div>"
      ],
      "text/plain": [
       "        Date       Open       High        Low      Close  Adj Close     Volume\n",
       "0 2012-05-18  42.049999  45.000000  38.000000  38.230000  38.230000  573576400\n",
       "1 2012-05-21  36.529999  36.660000  33.000000  34.029999  34.029999  168192700\n",
       "2 2012-05-22  32.610001  33.590000  30.940001  31.000000  31.000000  101786600\n",
       "3 2012-05-23  31.370001  32.500000  31.360001  32.000000  32.000000   73600000\n",
       "4 2012-05-24  32.950001  33.209999  31.770000  33.029999  33.029999   50237200"
      ]
     },
     "execution_count": 3,
     "metadata": {},
     "output_type": "execute_result"
    }
   ],
   "source": [
    "FB_Stock = pd.read_csv('FB.csv')\n",
    "FB_Stock = FB_Stock.sort_values('Date')\n",
    "FB_Stock['Date'] = pd.to_datetime(FB_Stock['Date'])\n",
    "FB_Stock.head()"
   ]
  },
  {
   "cell_type": "code",
   "execution_count": 4,
   "id": "9ddbd6de",
   "metadata": {},
   "outputs": [
    {
     "data": {
      "text/plain": [
       "Date         0\n",
       "Open         0\n",
       "High         0\n",
       "Low          0\n",
       "Close        0\n",
       "Adj Close    0\n",
       "Volume       0\n",
       "dtype: int64"
      ]
     },
     "execution_count": 4,
     "metadata": {},
     "output_type": "execute_result"
    }
   ],
   "source": [
    "FB_Stock.isna().sum()"
   ]
  },
  {
   "cell_type": "markdown",
   "id": "231c6fe4",
   "metadata": {},
   "source": [
    "Tidak ada record data yang null"
   ]
  },
  {
   "cell_type": "markdown",
   "id": "4257ebdb",
   "metadata": {},
   "source": [
    "##### Menampilkan sekilas isi International Business Machines Corporation stock data dari 'IBM.csv' dan memeriksa null values"
   ]
  },
  {
   "cell_type": "code",
   "execution_count": 5,
   "id": "1bfa0b5a",
   "metadata": {},
   "outputs": [
    {
     "data": {
      "text/html": [
       "<div>\n",
       "<style scoped>\n",
       "    .dataframe tbody tr th:only-of-type {\n",
       "        vertical-align: middle;\n",
       "    }\n",
       "\n",
       "    .dataframe tbody tr th {\n",
       "        vertical-align: top;\n",
       "    }\n",
       "\n",
       "    .dataframe thead th {\n",
       "        text-align: right;\n",
       "    }\n",
       "</style>\n",
       "<table border=\"1\" class=\"dataframe\">\n",
       "  <thead>\n",
       "    <tr style=\"text-align: right;\">\n",
       "      <th></th>\n",
       "      <th>Date</th>\n",
       "      <th>Open</th>\n",
       "      <th>High</th>\n",
       "      <th>Low</th>\n",
       "      <th>Close</th>\n",
       "      <th>Adj Close</th>\n",
       "      <th>Volume</th>\n",
       "    </tr>\n",
       "  </thead>\n",
       "  <tbody>\n",
       "    <tr>\n",
       "      <th>0</th>\n",
       "      <td>1962-01-02</td>\n",
       "      <td>7.713333</td>\n",
       "      <td>7.713333</td>\n",
       "      <td>7.626667</td>\n",
       "      <td>7.626667</td>\n",
       "      <td>0.618153</td>\n",
       "      <td>387200</td>\n",
       "    </tr>\n",
       "    <tr>\n",
       "      <th>1</th>\n",
       "      <td>1962-01-03</td>\n",
       "      <td>7.626667</td>\n",
       "      <td>7.693333</td>\n",
       "      <td>7.626667</td>\n",
       "      <td>7.693333</td>\n",
       "      <td>0.623556</td>\n",
       "      <td>288000</td>\n",
       "    </tr>\n",
       "    <tr>\n",
       "      <th>2</th>\n",
       "      <td>1962-01-04</td>\n",
       "      <td>7.693333</td>\n",
       "      <td>7.693333</td>\n",
       "      <td>7.613333</td>\n",
       "      <td>7.616667</td>\n",
       "      <td>0.617343</td>\n",
       "      <td>256000</td>\n",
       "    </tr>\n",
       "    <tr>\n",
       "      <th>3</th>\n",
       "      <td>1962-01-05</td>\n",
       "      <td>7.606667</td>\n",
       "      <td>7.606667</td>\n",
       "      <td>7.453333</td>\n",
       "      <td>7.466667</td>\n",
       "      <td>0.605185</td>\n",
       "      <td>363200</td>\n",
       "    </tr>\n",
       "    <tr>\n",
       "      <th>4</th>\n",
       "      <td>1962-01-08</td>\n",
       "      <td>7.460000</td>\n",
       "      <td>7.460000</td>\n",
       "      <td>7.266667</td>\n",
       "      <td>7.326667</td>\n",
       "      <td>0.593837</td>\n",
       "      <td>544000</td>\n",
       "    </tr>\n",
       "  </tbody>\n",
       "</table>\n",
       "</div>"
      ],
      "text/plain": [
       "        Date      Open      High       Low     Close  Adj Close  Volume\n",
       "0 1962-01-02  7.713333  7.713333  7.626667  7.626667   0.618153  387200\n",
       "1 1962-01-03  7.626667  7.693333  7.626667  7.693333   0.623556  288000\n",
       "2 1962-01-04  7.693333  7.693333  7.613333  7.616667   0.617343  256000\n",
       "3 1962-01-05  7.606667  7.606667  7.453333  7.466667   0.605185  363200\n",
       "4 1962-01-08  7.460000  7.460000  7.266667  7.326667   0.593837  544000"
      ]
     },
     "execution_count": 5,
     "metadata": {},
     "output_type": "execute_result"
    }
   ],
   "source": [
    "IBM_Stock = pd.read_csv('IBM.csv')\n",
    "IBM_Stock = IBM_Stock.sort_values('Date')\n",
    "IBM_Stock['Date'] = pd.to_datetime(IBM_Stock['Date'])\n",
    "IBM_Stock.head()"
   ]
  },
  {
   "cell_type": "code",
   "execution_count": 6,
   "id": "072b3220",
   "metadata": {},
   "outputs": [
    {
     "data": {
      "text/plain": [
       "Date         0\n",
       "Open         0\n",
       "High         0\n",
       "Low          0\n",
       "Close        0\n",
       "Adj Close    0\n",
       "Volume       0\n",
       "dtype: int64"
      ]
     },
     "execution_count": 6,
     "metadata": {},
     "output_type": "execute_result"
    }
   ],
   "source": [
    "IBM_Stock.isna().sum()"
   ]
  },
  {
   "cell_type": "markdown",
   "id": "e1901f37",
   "metadata": {},
   "source": [
    "Tidak ada record data yang null"
   ]
  },
  {
   "cell_type": "markdown",
   "id": "2d5e21c0",
   "metadata": {},
   "source": [
    "##### Menampilkan pergerakan harga stock kedua perusahan dengan Data Visualization"
   ]
  },
  {
   "cell_type": "code",
   "execution_count": 7,
   "id": "e73ce83f",
   "metadata": {},
   "outputs": [
    {
     "data": {
      "image/png": "[encoded data removed]",
      "text/plain": [
       "<Figure size 1080x720 with 1 Axes>"
      ]
     },
     "metadata": {
      "needs_background": "light"
     },
     "output_type": "display_data"
    }
   ],
   "source": [
    "import matplotlib.pyplot as plt\n",
    "\n",
    "plt.figure(figsize = (15,10))\n",
    "plt.plot(FB_Stock['Date'], FB_Stock['Close'], label='Facebook, Inc.')\n",
    "plt.plot(IBM_Stock['Date'], IBM_Stock['Close'], label='International Business Machines Corporation')\n",
    "plt.legend(loc='best')\n",
    "plt.show()"
   ]
  },
  {
   "cell_type": "markdown",
   "id": "95a57901",
   "metadata": {},
   "source": [
    "Sejalan dengan tampilan sekilas terdapat perbedaan tanggal atau waktu mulainya data IBM_Stock yang tersedia sejak '1962-01-02' sedangkan FB_Stock tersedia sejak '2012-05-17'.\n",
    "\n",
    "Dikarenakan kedua dataset akan dipaki secara bersamaan, maka kedua dataset harus disamakan rentang waktunya (timestamp).\n",
    "\n",
    "Solusinya adalah men-drop sebagian record data IBM_Stock dalam rentang tertentu untuk disamakan dengan data FB_Stock "
   ]
  },
  {
   "cell_type": "markdown",
   "id": "08933dde",
   "metadata": {},
   "source": [
    "##### Drop bagian IMB dari tahun 1962-01-02 sampai 2012-05-17"
   ]
  },
  {
   "cell_type": "code",
   "execution_count": 8,
   "id": "d32831da",
   "metadata": {
    "scrolled": true
   },
   "outputs": [],
   "source": [
    "#IBM_Stock = IBM_Stock.drop(pd.date_range('1962-01-02', '2012-05-17'), errors='ignore')\n",
    "IBM_Stock.drop(IBM_Stock.loc[(IBM_Stock['Date'] > '1962-01-01') & (IBM_Stock['Date'] < '2012-05-21')].index, inplace=True)\n",
    "FB_Stock.drop(FB_Stock.loc[(FB_Stock['Date'] < '2012-05-21')].index, inplace=True)"
   ]
  },
  {
   "cell_type": "markdown",
   "id": "c799cf5d",
   "metadata": {},
   "source": [
    "Dibagian ini ditambahkan drop untuk dataset FB_Stock agar kedua dataset dimulai bersamaan pada tanggal 2012-05-21(senin). Sebagai langkah awal dari solusi kebutuhan observe day(senin-jumat) dan predict day(senin saja)"
   ]
  },
  {
   "cell_type": "markdown",
   "id": "865b6a71",
   "metadata": {},
   "source": [
    "##### Memastikan drop records sudah benar"
   ]
  },
  {
   "cell_type": "code",
   "execution_count": 9,
   "id": "84cd68b0",
   "metadata": {},
   "outputs": [
    {
     "data": {
      "text/html": [
       "<div>\n",
       "<style scoped>\n",
       "    .dataframe tbody tr th:only-of-type {\n",
       "        vertical-align: middle;\n",
       "    }\n",
       "\n",
       "    .dataframe tbody tr th {\n",
       "        vertical-align: top;\n",
       "    }\n",
       "\n",
       "    .dataframe thead th {\n",
       "        text-align: right;\n",
       "    }\n",
       "</style>\n",
       "<table border=\"1\" class=\"dataframe\">\n",
       "  <thead>\n",
       "    <tr style=\"text-align: right;\">\n",
       "      <th></th>\n",
       "      <th>Date</th>\n",
       "      <th>Open</th>\n",
       "      <th>High</th>\n",
       "      <th>Low</th>\n",
       "      <th>Close</th>\n",
       "      <th>Adj Close</th>\n",
       "      <th>Volume</th>\n",
       "    </tr>\n",
       "  </thead>\n",
       "  <tbody>\n",
       "    <tr>\n",
       "      <th>12684</th>\n",
       "      <td>2012-05-21</td>\n",
       "      <td>195.979996</td>\n",
       "      <td>197.929993</td>\n",
       "      <td>194.630005</td>\n",
       "      <td>197.759995</td>\n",
       "      <td>149.745026</td>\n",
       "      <td>3831700</td>\n",
       "    </tr>\n",
       "    <tr>\n",
       "      <th>12685</th>\n",
       "      <td>2012-05-22</td>\n",
       "      <td>198.039993</td>\n",
       "      <td>198.259995</td>\n",
       "      <td>196.059998</td>\n",
       "      <td>196.820007</td>\n",
       "      <td>149.033279</td>\n",
       "      <td>3567100</td>\n",
       "    </tr>\n",
       "    <tr>\n",
       "      <th>12686</th>\n",
       "      <td>2012-05-23</td>\n",
       "      <td>195.529999</td>\n",
       "      <td>196.490005</td>\n",
       "      <td>193.199997</td>\n",
       "      <td>196.119995</td>\n",
       "      <td>148.503204</td>\n",
       "      <td>4100000</td>\n",
       "    </tr>\n",
       "    <tr>\n",
       "      <th>12687</th>\n",
       "      <td>2012-05-24</td>\n",
       "      <td>195.990005</td>\n",
       "      <td>196.279999</td>\n",
       "      <td>194.000000</td>\n",
       "      <td>196.089996</td>\n",
       "      <td>148.480530</td>\n",
       "      <td>3569300</td>\n",
       "    </tr>\n",
       "    <tr>\n",
       "      <th>12688</th>\n",
       "      <td>2012-05-25</td>\n",
       "      <td>195.110001</td>\n",
       "      <td>196.000000</td>\n",
       "      <td>194.000000</td>\n",
       "      <td>194.300003</td>\n",
       "      <td>147.125122</td>\n",
       "      <td>2901900</td>\n",
       "    </tr>\n",
       "  </tbody>\n",
       "</table>\n",
       "</div>"
      ],
      "text/plain": [
       "            Date        Open        High         Low       Close   Adj Close  \\\n",
       "12684 2012-05-21  195.979996  197.929993  194.630005  197.759995  149.745026   \n",
       "12685 2012-05-22  198.039993  198.259995  196.059998  196.820007  149.033279   \n",
       "12686 2012-05-23  195.529999  196.490005  193.199997  196.119995  148.503204   \n",
       "12687 2012-05-24  195.990005  196.279999  194.000000  196.089996  148.480530   \n",
       "12688 2012-05-25  195.110001  196.000000  194.000000  194.300003  147.125122   \n",
       "\n",
       "        Volume  \n",
       "12684  3831700  \n",
       "12685  3567100  \n",
       "12686  4100000  \n",
       "12687  3569300  \n",
       "12688  2901900  "
      ]
     },
     "execution_count": 9,
     "metadata": {},
     "output_type": "execute_result"
    }
   ],
   "source": [
    "IBM_Stock.head()"
   ]
  },
  {
   "cell_type": "code",
   "execution_count": 10,
   "id": "f53f09b2",
   "metadata": {},
   "outputs": [
    {
     "data": {
      "text/html": [
       "<div>\n",
       "<style scoped>\n",
       "    .dataframe tbody tr th:only-of-type {\n",
       "        vertical-align: middle;\n",
       "    }\n",
       "\n",
       "    .dataframe tbody tr th {\n",
       "        vertical-align: top;\n",
       "    }\n",
       "\n",
       "    .dataframe thead th {\n",
       "        text-align: right;\n",
       "    }\n",
       "</style>\n",
       "<table border=\"1\" class=\"dataframe\">\n",
       "  <thead>\n",
       "    <tr style=\"text-align: right;\">\n",
       "      <th></th>\n",
       "      <th>Date</th>\n",
       "      <th>Open</th>\n",
       "      <th>High</th>\n",
       "      <th>Low</th>\n",
       "      <th>Close</th>\n",
       "      <th>Adj Close</th>\n",
       "      <th>Volume</th>\n",
       "    </tr>\n",
       "  </thead>\n",
       "  <tbody>\n",
       "    <tr>\n",
       "      <th>1</th>\n",
       "      <td>2012-05-21</td>\n",
       "      <td>36.529999</td>\n",
       "      <td>36.660000</td>\n",
       "      <td>33.000000</td>\n",
       "      <td>34.029999</td>\n",
       "      <td>34.029999</td>\n",
       "      <td>168192700</td>\n",
       "    </tr>\n",
       "    <tr>\n",
       "      <th>2</th>\n",
       "      <td>2012-05-22</td>\n",
       "      <td>32.610001</td>\n",
       "      <td>33.590000</td>\n",
       "      <td>30.940001</td>\n",
       "      <td>31.000000</td>\n",
       "      <td>31.000000</td>\n",
       "      <td>101786600</td>\n",
       "    </tr>\n",
       "    <tr>\n",
       "      <th>3</th>\n",
       "      <td>2012-05-23</td>\n",
       "      <td>31.370001</td>\n",
       "      <td>32.500000</td>\n",
       "      <td>31.360001</td>\n",
       "      <td>32.000000</td>\n",
       "      <td>32.000000</td>\n",
       "      <td>73600000</td>\n",
       "    </tr>\n",
       "    <tr>\n",
       "      <th>4</th>\n",
       "      <td>2012-05-24</td>\n",
       "      <td>32.950001</td>\n",
       "      <td>33.209999</td>\n",
       "      <td>31.770000</td>\n",
       "      <td>33.029999</td>\n",
       "      <td>33.029999</td>\n",
       "      <td>50237200</td>\n",
       "    </tr>\n",
       "    <tr>\n",
       "      <th>5</th>\n",
       "      <td>2012-05-25</td>\n",
       "      <td>32.900002</td>\n",
       "      <td>32.950001</td>\n",
       "      <td>31.110001</td>\n",
       "      <td>31.910000</td>\n",
       "      <td>31.910000</td>\n",
       "      <td>37149800</td>\n",
       "    </tr>\n",
       "  </tbody>\n",
       "</table>\n",
       "</div>"
      ],
      "text/plain": [
       "        Date       Open       High        Low      Close  Adj Close     Volume\n",
       "1 2012-05-21  36.529999  36.660000  33.000000  34.029999  34.029999  168192700\n",
       "2 2012-05-22  32.610001  33.590000  30.940001  31.000000  31.000000  101786600\n",
       "3 2012-05-23  31.370001  32.500000  31.360001  32.000000  32.000000   73600000\n",
       "4 2012-05-24  32.950001  33.209999  31.770000  33.029999  33.029999   50237200\n",
       "5 2012-05-25  32.900002  32.950001  31.110001  31.910000  31.910000   37149800"
      ]
     },
     "execution_count": 10,
     "metadata": {},
     "output_type": "execute_result"
    }
   ],
   "source": [
    "FB_Stock.head()"
   ]
  },
  {
   "cell_type": "code",
   "execution_count": 11,
   "id": "34bd1505",
   "metadata": {},
   "outputs": [
    {
     "data": {
      "text/plain": [
       "(1979, 7)"
      ]
     },
     "execution_count": 11,
     "metadata": {},
     "output_type": "execute_result"
    }
   ],
   "source": [
    "IBM_Stock.shape"
   ]
  },
  {
   "cell_type": "code",
   "execution_count": 12,
   "id": "9c2f2f47",
   "metadata": {},
   "outputs": [
    {
     "data": {
      "text/plain": [
       "(1979, 7)"
      ]
     },
     "execution_count": 12,
     "metadata": {},
     "output_type": "execute_result"
    }
   ],
   "source": [
    "FB_Stock.shape"
   ]
  },
  {
   "cell_type": "markdown",
   "id": "517017f5",
   "metadata": {},
   "source": [
    "##### Membentuk array yang menampung nama perusahan dan mendrop kolom selain 'Date'(indexing) dan 'Close'"
   ]
  },
  {
   "cell_type": "code",
   "execution_count": 13,
   "id": "3fa52d0e",
   "metadata": {},
   "outputs": [],
   "source": [
    "companies = [FB_Stock, IBM_Stock]\n",
    "\n",
    "for comapany in companies:\n",
    "    comapany.set_index('Date', inplace=True)\n",
    "    comapany.drop(['Open', 'High', 'Low', 'Adj Close', 'Volume'], axis=1, inplace=True)"
   ]
  },
  {
   "cell_type": "markdown",
   "id": "1e50b0bb",
   "metadata": {},
   "source": [
    "##### Memvisualisasikan kembali pergerakan kedua saham perusahaan"
   ]
  },
  {
   "cell_type": "code",
   "execution_count": 14,
   "id": "9d726d1a",
   "metadata": {},
   "outputs": [
    {
     "data": {
      "image/png": "[encoded data removed]",
      "text/plain": [
       "<Figure size 1080x720 with 1 Axes>"
      ]
     },
     "metadata": {
      "needs_background": "light"
     },
     "output_type": "display_data"
    }
   ],
   "source": [
    "import matplotlib.pyplot as plt\n",
    "\n",
    "plt.figure(figsize = (15,10))\n",
    "plt.plot(FB_Stock, label='Facebook, Inc.')\n",
    "plt.plot(IBM_Stock, label='International Business Machines Corporation')\n",
    "plt.legend(loc='best')\n",
    "plt.show()"
   ]
  },
  {
   "cell_type": "markdown",
   "id": "be54ba65",
   "metadata": {},
   "source": [
    "Dari grafik diatas terdapat tren menarik antar harga saham kedua perusahan. Harga saham terlihat menunjukan tren yang berkebalikan misalnya pada tahun 2012-2016 saham Facebook, Inc cenderung positif/meningkat sedangkan IBM cenderung turun. Kemudian pertengahan 2017, harga saham Facebook, Inc mengungguli IBM setelahnya."
   ]
  },
  {
   "cell_type": "markdown",
   "id": "17541949",
   "metadata": {},
   "source": [
    "##### Data Normalization"
   ]
  },
  {
   "cell_type": "markdown",
   "id": "9fec72c5",
   "metadata": {},
   "source": [
    "Menggunakan fungsi MinMaxScaler untuk menyamaratakan data dalam rentang 0-1. Melakukan penyesuaian dimensi data dengan reshape() untuk kedua perusahan. Lalu menggabungkan dalam 1 array berdasarkan kolom recordnya(axis=1)."
   ]
  },
  {
   "cell_type": "code",
   "execution_count": 15,
   "id": "8e3c41c4",
   "metadata": {},
   "outputs": [],
   "source": [
    "scl = MinMaxScaler()\n",
    "    \n",
    "args = [company.values.reshape(company.shape[0],1) for company in companies]"
   ]
  },
  {
   "cell_type": "code",
   "execution_count": 16,
   "id": "c94620cb",
   "metadata": {},
   "outputs": [],
   "source": [
    "array = scl.fit_transform(np.concatenate((args[0],args[1]), axis=1))"
   ]
  },
  {
   "cell_type": "markdown",
   "id": "0fc5f7a2",
   "metadata": {},
   "source": [
    "##### Memisahkan data time series menjadi dua bagian input dan output"
   ]
  },
  {
   "cell_type": "markdown",
   "id": "73ebacef",
   "metadata": {},
   "source": [
    "Dengan window size = 5 (dari hari senin s.d jumat) dan horizon = 1 (hari senin saja)\n",
    "\n",
    "'look_back' == 'windows' sebagai banyak hari observed atau sebagai input = 5 hari\n",
    "\n",
    "'forward_days' sebagai banyak hari untuk dipredict yaitu senin (predict day) = 1 hari\n",
    "\n",
    "'skip' sebagai banyak hari antar 'look_back' terakhir (jumat) dan 'forward_days' (senin) = 3 hari\n",
    "\n",
    "Jadi dengan input sebanyak 5 hari ('look_back') kita akan memprediksi 1 hari ('forward_days') setelah berselang 3 hari ('skip') kemudian yaitu senin (predict day).\n",
    "\n",
    "Pembagian Train-test-validation (80:10:10) set array"
   ]
  },
  {
   "cell_type": "code",
   "execution_count": 17,
   "id": "a3b8ee6e",
   "metadata": {},
   "outputs": [],
   "source": [
    "look_back= 5\n",
    "forward_days = 1\n",
    "skip = 3\n",
    "num_companies= 2\n",
    "jump = 7\n",
    "\n",
    "last_train_index = round((80/100*len(array)))\n",
    "last_test_index = last_train_index+round((10/100*len(array)))\n",
    "\n",
    "array_train = array[:last_train_index]\n",
    "array_test = array[last_train_index:last_test_index]\n",
    "array_valid = array[last_test_index:]"
   ]
  },
  {
   "cell_type": "code",
   "execution_count": 18,
   "id": "68a73467",
   "metadata": {},
   "outputs": [
    {
     "data": {
      "text/plain": [
       "1583"
      ]
     },
     "execution_count": 18,
     "metadata": {},
     "output_type": "execute_result"
    }
   ],
   "source": [
    "len(array_train)"
   ]
  },
  {
   "cell_type": "code",
   "execution_count": 19,
   "id": "59a0cd39",
   "metadata": {},
   "outputs": [
    {
     "data": {
      "text/plain": [
       "198"
      ]
     },
     "execution_count": 19,
     "metadata": {},
     "output_type": "execute_result"
    }
   ],
   "source": [
    "len(array_test)"
   ]
  },
  {
   "cell_type": "code",
   "execution_count": 20,
   "id": "34dd7fff",
   "metadata": {},
   "outputs": [
    {
     "data": {
      "text/plain": [
       "198"
      ]
     },
     "execution_count": 20,
     "metadata": {},
     "output_type": "execute_result"
    }
   ],
   "source": [
    "len(array_valid)"
   ]
  },
  {
   "cell_type": "markdown",
   "id": "011cc588",
   "metadata": {},
   "source": [
    "##### Membuat fungsi \"processData\""
   ]
  },
  {
   "cell_type": "markdown",
   "id": "058634d8",
   "metadata": {},
   "source": [
    "Fungsi dari \"processData\" akan mengatur matrix input dan output untuk nantinya dilakukan predict/prediksi\n",
    "\n",
    "Matrix akan disesuaikan berdasarkan parameter yang ada(data, look_back, skip, forward_days,num_companies,jump)\n",
    "\n",
    "Fungsi berisikan loop/perulangan yang mengiterasi dari index 0 hingga index predict day akhir dengan jump = 7 (1 minggu) artinya data input yang digunakan dimulai senin dan akan terus diambil setiap senin. Dan nilai output hanya berisikan hari senin yang berjarak 3 hari ('skip') dari hari terakhir ('loop_back') yaitu jumat untuk masing-maisng perusahan."
   ]
  },
  {
   "cell_type": "code",
   "execution_count": 21,
   "id": "5ddd9538",
   "metadata": {},
   "outputs": [],
   "source": [
    "def processData(data, look_back, skip, forward_days,num_companies,jump):\n",
    "    X,Y = [],[]\n",
    "    for i in range(0, len(data) -look_back - skip - forward_days +1, jump):\n",
    "        X.append(data[i:(i+look_back)])\n",
    "        Y.append(data[(i+look_back+skip) : (i+look_back+skip+forward_days) ])\n",
    "    return np.array(X),np.array(Y)"
   ]
  },
  {
   "cell_type": "markdown",
   "id": "860847c7",
   "metadata": {},
   "source": [
    "##### Membagi train, test, dan validation set untuk setiap gelombang waktu(('look_back')+('skip')+('forward_days'))"
   ]
  },
  {
   "cell_type": "code",
   "execution_count": 22,
   "id": "8d12652f",
   "metadata": {},
   "outputs": [
    {
     "name": "stdout",
     "output_type": "stream",
     "text": [
      "(225, 5, 2)\n",
      "(28, 5, 2)\n",
      "(28, 5, 2)\n",
      "(225, 2)\n",
      "(28, 2)\n",
      "(28, 2)\n"
     ]
    }
   ],
   "source": [
    "X_test,y_test = processData(array_test,look_back,skip,forward_days,num_companies,jump)\n",
    "y_test = np.array([list(a.ravel()) for a in y_test])\n",
    "\n",
    "X_valid,y_valid = processData(array_valid,look_back,skip,forward_days,num_companies,jump)\n",
    "y_valid = np.array([list(a.ravel()) for a in y_valid])\n",
    "\n",
    "X_train,y_train = processData(array_train,look_back,skip,forward_days,num_companies,jump)\n",
    "y_train = np.array([list(x.ravel()) for x in y_train])\n",
    "\n",
    "print(X_train.shape)\n",
    "print(X_valid.shape)\n",
    "print(X_test.shape)\n",
    "print(y_train.shape)\n",
    "print(y_valid.shape)\n",
    "print(y_test.shape)"
   ]
  },
  {
   "cell_type": "markdown",
   "id": "731bb805",
   "metadata": {},
   "source": [
    "### 1. b. Arsitektur Baseline"
   ]
  },
  {
   "cell_type": "markdown",
   "id": "a4e1e89f",
   "metadata": {},
   "source": [
    "LSTM (units=50)\n",
    "\n",
    "Layer akhir, node Perceptron (units=1)\n",
    "\n",
    "Activation function untuk LSTM menggunakan ReLU"
   ]
  },
  {
   "cell_type": "code",
   "execution_count": 23,
   "id": "162dbec1",
   "metadata": {},
   "outputs": [
    {
     "name": "stdout",
     "output_type": "stream",
     "text": [
      "Epoch 1/10\n",
      "225/225 - 2s - loss: 0.0537 - val_loss: 0.0057 - 2s/epoch - 9ms/step\n",
      "Epoch 2/10\n",
      "225/225 - 1s - loss: 0.0014 - val_loss: 0.0061 - 620ms/epoch - 3ms/step\n",
      "Epoch 3/10\n",
      "225/225 - 1s - loss: 0.0014 - val_loss: 0.0043 - 545ms/epoch - 2ms/step\n",
      "Epoch 4/10\n",
      "225/225 - 1s - loss: 0.0014 - val_loss: 0.0051 - 620ms/epoch - 3ms/step\n",
      "Epoch 5/10\n",
      "225/225 - 1s - loss: 0.0017 - val_loss: 0.0048 - 702ms/epoch - 3ms/step\n",
      "Epoch 6/10\n",
      "225/225 - 1s - loss: 0.0014 - val_loss: 0.0049 - 570ms/epoch - 3ms/step\n",
      "Epoch 7/10\n",
      "225/225 - 1s - loss: 0.0013 - val_loss: 0.0042 - 708ms/epoch - 3ms/step\n",
      "Epoch 8/10\n",
      "225/225 - 1s - loss: 0.0014 - val_loss: 0.0051 - 883ms/epoch - 4ms/step\n",
      "Epoch 9/10\n",
      "225/225 - 1s - loss: 0.0015 - val_loss: 0.0041 - 525ms/epoch - 2ms/step\n",
      "Epoch 10/10\n",
      "225/225 - 1s - loss: 0.0013 - val_loss: 0.0054 - 607ms/epoch - 3ms/step\n"
     ]
    }
   ],
   "source": [
    "from keras.models import Sequential\n",
    "from keras.layers import LSTM,Dense\n",
    "from tensorflow.keras.activations import relu\n",
    "from keras.models import load_model\n",
    "\n",
    "model = Sequential()\n",
    "model.add(LSTM(units=50, activation=relu, input_shape=(look_back,num_companies)))\n",
    "model.add(Dense(units=1*num_companies))\n",
    "model.compile(optimizer='adam', loss='mean_squared_error')\n",
    "\n",
    "history = model.fit(X_train,y_train,epochs=10,validation_data=(X_valid,y_valid),shuffle=True,batch_size=1, verbose=2)"
   ]
  },
  {
   "cell_type": "markdown",
   "id": "1fa58a17",
   "metadata": {},
   "source": [
    "##### Menampilkan grafik perbandingan loss dan val_loss hasil train model baseline"
   ]
  },
  {
   "cell_type": "code",
   "execution_count": 24,
   "id": "191349a2",
   "metadata": {},
   "outputs": [
    {
     "data": {
      "image/png": "[encoded data removed]",
      "text/plain": [
       "<Figure size 1080x720 with 1 Axes>"
      ]
     },
     "metadata": {
      "needs_background": "light"
     },
     "output_type": "display_data"
    }
   ],
   "source": [
    "plt.figure(figsize = (15,10))\n",
    "\n",
    "plt.plot(history.history['loss'], label='loss')\n",
    "plt.plot(history.history['val_loss'], label='val_loss')\n",
    "plt.legend(loc='best')\n",
    "plt.show()"
   ]
  },
  {
   "cell_type": "raw",
   "id": "6f2dadf5",
   "metadata": {},
   "source": [
    "Dari grafik diatas, terdapat dua nilai yaitu loss dan val_loss cukup rendah dengan loss mengalami penurunan signifikan pada awal yang artinya model bekerja dengan baik pada training set dan val_loss grafiknya naik turun namun secara keseluruhan cuku baik yang artinya model juga belajar dengan baik pada validation set."
   ]
  },
  {
   "cell_type": "markdown",
   "id": "f5dd0e35",
   "metadata": {},
   "source": [
    "### 1. c. Arsitektur Modifikasi, model_01"
   ]
  },
  {
   "cell_type": "markdown",
   "id": "7ed065d6",
   "metadata": {},
   "source": [
    "##### === UNITS ===\n",
    "##### Penggunaan LSTM dengan (units=60)\n",
    "RMSE - Model 2: 0.05125869810127804\n",
    "MAE - Model 2: 0.038540819816116276\n",
    "##### Penggunaan LSTM dengan (units=50)\n",
    "RMSE - Model 2: 0.04863259201984556\n",
    "MAE - Model 2: 0.033258122964078804\n",
    "##### Penggunaan LSTM dengan (units=40)\n",
    "RMSE - Model 2: 0.04829049336694003\n",
    "MAE - Model 2: 0.033980288127075764\n",
    "\n",
    "Menunjukan jumlah neuron/units 40 lebih baik dari units 50 dan 60. Berdasarkan pencaharian paper[1] dikatakan tidak ada batasan atau formula tetentu dalam memilih jumlah units. Maka dari itu pemilihan jumlah neuron dilakukan acak diatas dan dibawah nilai 50. Hasilnya RMSE dan MAE unit = 40 lebih kecil yang artinya lebih baik dari unit lainnya.\n",
    "\n",
    "\n",
    "##### === ACTIVATION FUNCTION ===\n",
    "##### Penggunaan activation function 'softmax'\n",
    "RMSE - Model 2: 0.0500645719270934\n",
    "MAE - Model 2: 0.03517841826566576\n",
    "##### Penggunaan activation function 'tanh'\n",
    "RMSE - Model 2: 0.04857197549125593\n",
    "MAE - Model 2: 0.0350291077638187\n",
    "##### Penggunaan activation function 'relu'\n",
    "RMSE - Model 2: 0.05150427416338347\n",
    "MAE - Model 2: 0.035569687803433406\n",
    "\n",
    "Menunjukan activation function 'relu' lebih baik dari 'softmax'. Selain melalui eksperimen diatas, berdasarkan referensi dari Essai Ali, dkk[2] arsitektur LSTM menggunakan gate activation function (sigmoid) dan state activation function (tanh) yang sering digunakan untuk neuron. Sehingga activation function 'relu' dan 'softmax' tidak lebih baik performanya dibandingkan dengan activation function 'tanh'.\n",
    "\n",
    "\n",
    "##### === DROUPOUT ===\n",
    "##### Penambahan droput\n",
    "RMSE - Model 2: 0.04716202934728705\n",
    "MAE - Model 2: 0.03222229548891176\n",
    "##### Tanpa Dropout\n",
    "RMSE - Model 2: 0.05038306984100266\n",
    "MAE - Model 2: 0.03439869922679346\n",
    "\n",
    "Sejalan dengan eksperimen iya atau tidaknya menambahkan droput diatas, berdasarkan paper[3] terbukti bahwa penambahan dropout layer menambah performa LSTM.\n",
    "\n",
    "\n",
    "##### Reference:\n",
    "\n",
    "[1] M. W. Putra Aldi, Jondri, and A. Aditsania, \"Analisis dan Implementasi Long Short Term Memory Neural Network untuk Prediksi Harga Bitcoin,\", vol.5, pp. 3548-3555, 2018.\n",
    "\n",
    "[2] M. H. Essai Ali, A. B. Abdel-Raman and E. A. Badry, \"Developing Novel Activation Functions Based Deep Learning LSTM for Classification,\" in IEEE Access, vol. 10, pp. 97259-97275, 2022, doi: 10.1109/ACCESS.2022.3205774.\n",
    "\n",
    "[3] Z. He, \"Improving LSTM Based Acoustic Model with Dropout Method,\" 2019 International Conference on Artificial Intelligence and Advanced Manufacturing (AIAM), Dublin, Ireland, 2019, pp. 27-30, doi: 10.1109/AIAM48774.2019.00012."
   ]
  },
  {
   "cell_type": "code",
   "execution_count": 25,
   "id": "f722e9a5",
   "metadata": {
    "scrolled": true
   },
   "outputs": [
    {
     "name": "stdout",
     "output_type": "stream",
     "text": [
      "Epoch 1/10\n",
      "225/225 - 4s - loss: 0.0301 - val_loss: 0.0043 - 4s/epoch - 18ms/step\n",
      "Epoch 2/10\n",
      "225/225 - 1s - loss: 0.0014 - val_loss: 0.0040 - 693ms/epoch - 3ms/step\n",
      "Epoch 3/10\n",
      "225/225 - 1s - loss: 0.0013 - val_loss: 0.0047 - 640ms/epoch - 3ms/step\n",
      "Epoch 4/10\n",
      "225/225 - 1s - loss: 0.0013 - val_loss: 0.0038 - 645ms/epoch - 3ms/step\n",
      "Epoch 5/10\n",
      "225/225 - 1s - loss: 0.0013 - val_loss: 0.0073 - 638ms/epoch - 3ms/step\n",
      "Epoch 6/10\n",
      "225/225 - 1s - loss: 0.0016 - val_loss: 0.0046 - 749ms/epoch - 3ms/step\n",
      "Epoch 7/10\n",
      "225/225 - 1s - loss: 0.0012 - val_loss: 0.0046 - 614ms/epoch - 3ms/step\n",
      "Epoch 8/10\n",
      "225/225 - 1s - loss: 0.0012 - val_loss: 0.0052 - 797ms/epoch - 4ms/step\n",
      "Epoch 9/10\n",
      "225/225 - 1s - loss: 0.0013 - val_loss: 0.0040 - 742ms/epoch - 3ms/step\n",
      "Epoch 10/10\n",
      "225/225 - 1s - loss: 0.0013 - val_loss: 0.0044 - 676ms/epoch - 3ms/step\n"
     ]
    }
   ],
   "source": [
    "from keras.layers.core import Dense, Activation, Dropout\n",
    "\n",
    "EPOCHS = 10\n",
    "\n",
    "model_01 = Sequential()\n",
    "\n",
    "model_01.add(LSTM(units=40, input_shape=(look_back,num_companies)))\n",
    "model.add(Dropout(0.4))\n",
    "model_01.add(Dense(units=1* num_companies))\n",
    "model.add(Activation('tanh'))\n",
    "model_01.compile(optimizer='adam', loss='mean_squared_error')\n",
    "\n",
    "history_01 = model_01.fit(X_train,y_train,epochs=EPOCHS,validation_data=(X_valid,y_valid),shuffle=True,batch_size=1, verbose=2)"
   ]
  },
  {
   "cell_type": "code",
   "execution_count": 26,
   "id": "ad5cc3b8",
   "metadata": {},
   "outputs": [
    {
     "data": {
      "image/png": "[encoded data removed]",
      "text/plain": [
       "<Figure size 1080x720 with 1 Axes>"
      ]
     },
     "metadata": {
      "needs_background": "light"
     },
     "output_type": "display_data"
    }
   ],
   "source": [
    "plt.figure(figsize = (15,10))\n",
    "\n",
    "plt.plot(history_01.history['loss'], label='loss')\n",
    "plt.plot(history_01.history['val_loss'], label='val_loss')\n",
    "plt.legend(loc='best')\n",
    "plt.show()"
   ]
  },
  {
   "cell_type": "markdown",
   "id": "f06f43cc",
   "metadata": {},
   "source": [
    "Dari grafik diatas terlihat pola yang hampir sama dengan model baseline"
   ]
  },
  {
   "cell_type": "markdown",
   "id": "9137cd72",
   "metadata": {},
   "source": [
    "### 1. d. Evaluasi"
   ]
  },
  {
   "cell_type": "code",
   "execution_count": 27,
   "id": "7baa03da",
   "metadata": {},
   "outputs": [
    {
     "name": "stdout",
     "output_type": "stream",
     "text": [
      "6/6 [==============================] - 0s 4ms/step\n",
      "6/6 [==============================] - 1s 3ms/step\n"
     ]
    }
   ],
   "source": [
    "from sklearn.metrics import mean_squared_error, mean_absolute_error\n",
    "\n",
    "X_valid,y_valid = processData(array_valid,look_back,skip,forward_days,num_companies,forward_days)\n",
    "y_valid = np.array([list(a.ravel()) for a in y_valid])\n",
    "y_true = y_valid\n",
    "y_pred_model1 = model.predict(X_valid)\n",
    "y_pred_model2 = model_01.predict(X_valid)"
   ]
  },
  {
   "cell_type": "code",
   "execution_count": 28,
   "id": "7ede51c5",
   "metadata": {},
   "outputs": [
    {
     "name": "stdout",
     "output_type": "stream",
     "text": [
      "RMSE - Model 1: 0.123016585229249\n",
      "RMSE - Model 2: 0.0596365051656696\n",
      "MAE - Model 1: 0.099757178424427\n",
      "MAE - Model 2: 0.04234463818441254\n",
      "MAPE - Model 1: inf\n",
      "MAPE - Model 2: inf\n"
     ]
    },
    {
     "name": "stderr",
     "output_type": "stream",
     "text": [
      "<ipython-input-28-c8868cac17ec>:11: RuntimeWarning: divide by zero encountered in divide\n",
      "  return np.mean(np.abs((y_true - y_pred) / y_true)) * 100\n"
     ]
    }
   ],
   "source": [
    "# Calculate RMSE\n",
    "def calculate_rmse(y_true, y_pred):\n",
    "    return np.sqrt(mean_squared_error(y_true, y_pred))\n",
    "\n",
    "# Calculate MAE\n",
    "def calculate_mae(y_true, y_pred):\n",
    "    return mean_absolute_error(y_true, y_pred)\n",
    "\n",
    "# Calculate MAPE\n",
    "def calculate_mape(y_true, y_pred):\n",
    "    return np.mean(np.abs((y_true - y_pred) / y_true)) * 100\n",
    "\n",
    "# Assuming you have the ground truth values y_true and predictions from two models y_pred_model1 and y_pred_model2\n",
    "rmse_model1 = calculate_rmse(y_true, y_pred_model1)\n",
    "rmse_model2 = calculate_rmse(y_true, y_pred_model2)\n",
    "\n",
    "mae_model1 = calculate_mae(y_true, y_pred_model1)\n",
    "mae_model2 = calculate_mae(y_true, y_pred_model2)\n",
    "\n",
    "mape_model1 = calculate_mape(y_true, y_pred_model1)\n",
    "mape_model2 = calculate_mape(y_true, y_pred_model2)\n",
    "\n",
    "# Print the evaluation metrics\n",
    "print(\"RMSE - Model 1:\", rmse_model1)\n",
    "print(\"RMSE - Model 2:\", rmse_model2)\n",
    "print(\"MAE - Model 1:\", mae_model1)\n",
    "print(\"MAE - Model 2:\", mae_model2)\n",
    "print(\"MAPE - Model 1:\", mape_model1)\n",
    "print(\"MAPE - Model 2:\", mape_model2)"
   ]
  },
  {
   "cell_type": "markdown",
   "id": "10b4a53e",
   "metadata": {},
   "source": [
    "Berdasarkan nilai RMSE, MAE yang masing-masing bernilai optimal apabila nilainya semakin kecil menunjukan model modifikasi telah berhasil meungguli model baseline setelah sebelumnya mengganti beberapa parameter seperti jumlah unit, activation function dan penambahan dropout.\n",
    "\n",
    "Nilai MAPE kedua model inf atau tidak hingga, yang bisa jadi dikarenakan bilangan pembagi yang mendekati sangat kecil mendekati nol sehingga menjadi infinity hasilnya. Sesuai dengan permasalahan MAPE pada umumnya jika permbagi teralu kecil mendekati nol[1].\n",
    "\n",
    "Reference:\n",
    "S. Kim and H. Kim, \"A new metric of absolute percentage error for intermittent demand forecasts,\" International Journal of Forecasting, Vol. 32, 2016, pp. 669-679, doi:10.1016."
   ]
  },
  {
   "cell_type": "markdown",
   "id": "2ced2962",
   "metadata": {},
   "source": [
    "### 1. e. Video Presentasi \n",
    "Link video presentasi: \n",
    "https://drive.google.com/file/d/1P5u1VxAeUjpvEvQf-_QSslku9_TauGp9/view?usp=sharing"
   ]
  }
 ],
 "metadata": {
  "kernelspec": {
   "display_name": "Python 3",
   "language": "python",
   "name": "python3"
  },
  "language_info": {
   "codemirror_mode": {
    "name": "ipython",
    "version": 3
   },
   "file_extension": ".py",
   "mimetype": "text/x-python",
   "name": "python",
   "nbconvert_exporter": "python",
   "pygments_lexer": "ipython3",
   "version": "3.8.8"
  }
 },
 "nbformat": 4,
 "nbformat_minor": 5
}
